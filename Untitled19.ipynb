{
  "nbformat": 4,
  "nbformat_minor": 0,
  "metadata": {
    "colab": {
      "name": "Untitled19.ipynb",
      "provenance": []
    },
    "kernelspec": {
      "name": "python3",
      "display_name": "Python 3"
    },
    "language_info": {
      "name": "python"
    }
  },
  "cells": [
    {
      "cell_type": "code",
      "metadata": {
        "colab": {
          "base_uri": "https://localhost:8080/"
        },
        "id": "j_RLM65_wLwi",
        "outputId": "36b8abd1-0c57-427b-e87b-6afabf7af9f7"
      },
      "source": [
        "print(\"abc\")"
      ],
      "execution_count": 3,
      "outputs": [
        {
          "output_type": "stream",
          "text": [
            "abc\n"
          ],
          "name": "stdout"
        }
      ]
    },
    {
      "cell_type": "code",
      "metadata": {
        "colab": {
          "base_uri": "https://localhost:8080/"
        },
        "id": "TfCv6PD0wtob",
        "outputId": "c2ed5f16-81b5-4b6a-a6a9-0432e4cd0605"
      },
      "source": [
        "a = 5 - 2\n",
        "\n",
        "print(a)\n",
        "print(a - 2)\n",
        "print(a)"
      ],
      "execution_count": 9,
      "outputs": [
        {
          "output_type": "stream",
          "text": [
            "3\n",
            "1\n",
            "3\n"
          ],
          "name": "stdout"
        }
      ]
    },
    {
      "cell_type": "code",
      "metadata": {
        "colab": {
          "base_uri": "https://localhost:8080/"
        },
        "id": "abwLwoVpw6h7",
        "outputId": "3ac9a553-4eac-46c7-c979-b8a166337393"
      },
      "source": [
        "groceries = [\"apples\", \"bananas\", \"oranges\", a]\n",
        "\n",
        "for item in groceries:\n",
        "  print(item)\n"
      ],
      "execution_count": 10,
      "outputs": [
        {
          "output_type": "stream",
          "text": [
            "apples\n",
            "bananas\n",
            "oranges\n",
            "3\n"
          ],
          "name": "stdout"
        }
      ]
    },
    {
      "cell_type": "code",
      "metadata": {
        "colab": {
          "base_uri": "https://localhost:8080/"
        },
        "id": "DWmOursBx5u_",
        "outputId": "c7dfd478-7059-44b7-dc08-f9cfa6d24473"
      },
      "source": [
        "import random\n",
        "\n",
        "nums = [1, 2, 3, 4]\n",
        "\n",
        "r = random.choice(nums)\n",
        "\n",
        "print(r)"
      ],
      "execution_count": 20,
      "outputs": [
        {
          "output_type": "stream",
          "text": [
            "4\n"
          ],
          "name": "stdout"
        }
      ]
    },
    {
      "cell_type": "code",
      "metadata": {
        "colab": {
          "base_uri": "https://localhost:8080/"
        },
        "id": "aWO2UDbHw7lr",
        "outputId": "62e9e7b8-fbac-4b2b-fb87-c9479949530f"
      },
      "source": [
        "for i in range(2):\n",
        "  # r = random.choice(nums)\n",
        "  print(\"hello\")"
      ],
      "execution_count": 39,
      "outputs": [
        {
          "output_type": "stream",
          "text": [
            "hello\n",
            "hello\n"
          ],
          "name": "stdout"
        }
      ]
    },
    {
      "cell_type": "code",
      "metadata": {
        "colab": {
          "base_uri": "https://localhost:8080/"
        },
        "id": "oreV-bk3yxl7",
        "outputId": "7c1d9604-a6b7-4e4b-a17c-d9fec009ad19"
      },
      "source": [
        "nums = [5, 2, 3]\n",
        "      # 0, 1, 2\n",
        "\n",
        "length = len(nums)\n",
        "\n",
        "for i in nums:\n",
        "  print(i)\n",
        "\n",
        "for i in range(3):\n",
        "  print(i)"
      ],
      "execution_count": 53,
      "outputs": [
        {
          "output_type": "stream",
          "text": [
            "5\n",
            "2\n",
            "3\n"
          ],
          "name": "stdout"
        }
      ]
    },
    {
      "cell_type": "code",
      "metadata": {
        "colab": {
          "base_uri": "https://localhost:8080/"
        },
        "id": "pdgPxx8_0OQk",
        "outputId": "b8c61398-0e88-4b58-f337-631e9702caf9"
      },
      "source": [
        "nums[2]"
      ],
      "execution_count": 49,
      "outputs": [
        {
          "output_type": "execute_result",
          "data": {
            "text/plain": [
              "3"
            ]
          },
          "metadata": {
            "tags": []
          },
          "execution_count": 49
        }
      ]
    },
    {
      "cell_type": "code",
      "metadata": {
        "id": "h7cmEMC309lb"
      },
      "source": [
        "from random import choice\n",
        "\n",
        "choice(nums)"
      ],
      "execution_count": null,
      "outputs": []
    },
    {
      "cell_type": "code",
      "metadata": {
        "colab": {
          "base_uri": "https://localhost:8080/"
        },
        "id": "rVEu7uPu1zdi",
        "outputId": "6ec5dd21-6ffb-4aa1-ee57-b9da65aea2c4"
      },
      "source": [
        "print(\"start\")\n",
        "\n",
        "# for loop\n",
        "for i in range(5):\n",
        "  print(i)\n",
        "\n",
        "print(\"done running\")"
      ],
      "execution_count": 57,
      "outputs": [
        {
          "output_type": "stream",
          "text": [
            "start\n",
            "0\n",
            "1\n",
            "2\n",
            "3\n",
            "4\n",
            "done running\n"
          ],
          "name": "stdout"
        }
      ]
    },
    {
      "cell_type": "code",
      "metadata": {
        "colab": {
          "base_uri": "https://localhost:8080/"
        },
        "id": "tKw7Roos1z9D",
        "outputId": "978c7427-3a3d-468f-d962-f842b108a974"
      },
      "source": [
        "x = 3\n",
        "\n",
        "if x == 3:\n",
        "  print(\"hello\")\n",
        "else:\n",
        "  print(\"bye\")"
      ],
      "execution_count": 60,
      "outputs": [
        {
          "output_type": "stream",
          "text": [
            "hello\n"
          ],
          "name": "stdout"
        }
      ]
    },
    {
      "cell_type": "code",
      "metadata": {
        "colab": {
          "base_uri": "https://localhost:8080/"
        },
        "id": "LsOmNI_B2X1s",
        "outputId": "4d216cb3-169e-4f5d-d950-c9d560f5cb26"
      },
      "source": [
        "print(x == 3)"
      ],
      "execution_count": 61,
      "outputs": [
        {
          "output_type": "stream",
          "text": [
            "True\n"
          ],
          "name": "stdout"
        }
      ]
    },
    {
      "cell_type": "code",
      "metadata": {
        "colab": {
          "base_uri": "https://localhost:8080/"
        },
        "id": "aNKNnbWF2mNz",
        "outputId": "5d5462c0-7747-4cd7-ca68-7c5067f21ad8"
      },
      "source": [
        "print(x + 2)\n",
        "print(x - 2)\n",
        "print(x / 2)\n",
        "print(x % 2)"
      ],
      "execution_count": 71,
      "outputs": [
        {
          "output_type": "stream",
          "text": [
            "5\n",
            "1\n",
            "1.5\n",
            "1\n"
          ],
          "name": "stdout"
        }
      ]
    },
    {
      "cell_type": "code",
      "metadata": {
        "colab": {
          "base_uri": "https://localhost:8080/"
        },
        "id": "TS3v0BWf2n9k",
        "outputId": "5f2ea047-a43f-4881-ac2f-b9c1a93f741e"
      },
      "source": [
        "x = 122\n",
        "x % 2 == 0"
      ],
      "execution_count": 75,
      "outputs": [
        {
          "output_type": "execute_result",
          "data": {
            "text/plain": [
              "True"
            ]
          },
          "metadata": {
            "tags": []
          },
          "execution_count": 75
        }
      ]
    },
    {
      "cell_type": "code",
      "metadata": {
        "colab": {
          "base_uri": "https://localhost:8080/"
        },
        "id": "dpBl17Bn3Gws",
        "outputId": "c26f8f91-3dd5-40ef-b4b3-2379121aad18"
      },
      "source": [
        "numbers = [20, 12, 23, 2, 3]\n",
        "\n",
        "for num in numbers:\n",
        "  if num % 2 == 0:\n",
        "    print(\"even\")\n",
        "  else:\n",
        "    print(\"odd\")\n",
        "\n"
      ],
      "execution_count": 79,
      "outputs": [
        {
          "output_type": "stream",
          "text": [
            "even\n",
            "even\n",
            "odd\n",
            "even\n",
            "odd\n"
          ],
          "name": "stdout"
        }
      ]
    },
    {
      "cell_type": "code",
      "metadata": {
        "colab": {
          "base_uri": "https://localhost:8080/"
        },
        "id": "_DoeFem46ra-",
        "outputId": "c7feebcb-95ff-4e90-e7ca-810f8599d99e"
      },
      "source": [
        "n = 4\n",
        "\n",
        "if n == 3:\n",
        "  print(n)\n",
        "elif n == 4:\n",
        "  print(n - 2)\n",
        "else:\n",
        "  print(1)\n",
        "\n"
      ],
      "execution_count": 83,
      "outputs": [
        {
          "output_type": "stream",
          "text": [
            "2\n"
          ],
          "name": "stdout"
        }
      ]
    },
    {
      "cell_type": "code",
      "metadata": {
        "colab": {
          "base_uri": "https://localhost:8080/"
        },
        "id": "CYkc0oAP72p8",
        "outputId": "4fd975ed-7eba-4128-dbdb-e62dc413c6e6"
      },
      "source": [
        "items = [\"a\", \"b\", \"d\", \"c\"]\n",
        "\n",
        "# string\n",
        "name = \"Michael\"\n",
        "\n",
        "print(name[0])\n",
        "\n",
        "# 4th element... 3rd \"index\"\n"
      ],
      "execution_count": 90,
      "outputs": [
        {
          "output_type": "stream",
          "text": [
            "M\n"
          ],
          "name": "stdout"
        }
      ]
    },
    {
      "cell_type": "code",
      "metadata": {
        "colab": {
          "base_uri": "https://localhost:8080/"
        },
        "id": "vV2J5BTE8YPd",
        "outputId": "1e23f6e7-3534-4787-dff5-95075a1981a2"
      },
      "source": [
        "list(\"Michael\")"
      ],
      "execution_count": 93,
      "outputs": [
        {
          "output_type": "execute_result",
          "data": {
            "text/plain": [
              "['M', 'i', 'c', 'h', 'a', 'e', 'l']"
            ]
          },
          "metadata": {
            "tags": []
          },
          "execution_count": 93
        }
      ]
    },
    {
      "cell_type": "code",
      "metadata": {
        "colab": {
          "base_uri": "https://localhost:8080/"
        },
        "id": "fwrf3XwS9FuF",
        "outputId": "e524266d-b790-4626-a186-8dcee47f627a"
      },
      "source": [
        "['Mich', 'a', 'e', 'l']"
      ],
      "execution_count": 95,
      "outputs": [
        {
          "output_type": "execute_result",
          "data": {
            "text/plain": [
              "['Mich', 'a', 'e', 'l']"
            ]
          },
          "metadata": {
            "tags": []
          },
          "execution_count": 95
        }
      ]
    },
    {
      "cell_type": "code",
      "metadata": {
        "id": "KgCknG_H9i8-"
      },
      "source": [
        ""
      ],
      "execution_count": 98,
      "outputs": []
    },
    {
      "cell_type": "code",
      "metadata": {
        "colab": {
          "base_uri": "https://localhost:8080/"
        },
        "id": "kvbKx_Es9pD6",
        "outputId": "dbd3d839-33d0-41e2-a127-5abe58f4d86e"
      },
      "source": [
        "# 1 4 9 16 25 36 ... 81\n",
        "s = [1, 2, 3, 4]\n",
        "\n",
        "print(s[i] * s[i])"
      ],
      "execution_count": 101,
      "outputs": [
        {
          "output_type": "stream",
          "text": [
            "9\n"
          ],
          "name": "stdout"
        }
      ]
    },
    {
      "cell_type": "code",
      "metadata": {
        "colab": {
          "base_uri": "https://localhost:8080/"
        },
        "id": "poaGfyA3-CWF",
        "outputId": "71cb02b3-b6c6-4125-b7b8-3a8d417da6fd"
      },
      "source": [
        "for i in range(9):\n",
        "  print(i*i)"
      ],
      "execution_count": 104,
      "outputs": [
        {
          "output_type": "stream",
          "text": [
            "0\n",
            "1\n",
            "4\n",
            "9\n",
            "16\n",
            "25\n",
            "36\n",
            "49\n",
            "64\n"
          ],
          "name": "stdout"
        }
      ]
    },
    {
      "cell_type": "code",
      "metadata": {
        "colab": {
          "base_uri": "https://localhost:8080/",
          "height": 181
        },
        "id": "j9BaMOq8-LLg",
        "outputId": "50fb4612-53af-45ee-cabb-b2f8119a7319"
      },
      "source": [
        "if jladgfolhn34jr 4r78 9hwerfiuewf:\n",
        "  print(\"hello world\")\n",
        "\n",
        "  True or False"
      ],
      "execution_count": 105,
      "outputs": [
        {
          "output_type": "error",
          "ename": "NameError",
          "evalue": "ignored",
          "traceback": [
            "\u001b[0;31m---------------------------------------------------------------------------\u001b[0m",
            "\u001b[0;31mNameError\u001b[0m                                 Traceback (most recent call last)",
            "\u001b[0;32m<ipython-input-105-365e9e60db21>\u001b[0m in \u001b[0;36m<module>\u001b[0;34m()\u001b[0m\n\u001b[0;32m----> 1\u001b[0;31m \u001b[0;32mif\u001b[0m \u001b[0mSOME_CONDITION_WE_WANT_TO_CHECK\u001b[0m\u001b[0;34m:\u001b[0m\u001b[0;34m\u001b[0m\u001b[0;34m\u001b[0m\u001b[0m\n\u001b[0m\u001b[1;32m      2\u001b[0m   \u001b[0mprint\u001b[0m\u001b[0;34m(\u001b[0m\u001b[0;34m\"hello world\"\u001b[0m\u001b[0;34m)\u001b[0m\u001b[0;34m\u001b[0m\u001b[0;34m\u001b[0m\u001b[0m\n",
            "\u001b[0;31mNameError\u001b[0m: name 'SOME_CONDITION_WE_WANT_TO_CHECK' is not defined"
          ]
        }
      ]
    },
    {
      "cell_type": "code",
      "metadata": {
        "colab": {
          "base_uri": "https://localhost:8080/"
        },
        "id": "tRd8xlozDWVO",
        "outputId": "46f96a16-4fb8-4b58-8033-696a70676df5"
      },
      "source": [
        "\n",
        "if \"dog\" == \"cat\":\n",
        "  print(\"cat\")\n",
        "elif 3 == 2:\n",
        "  print(\"no\")\n",
        "else:\n",
        "  print(\"dog\")\n",
        "\n",
        "print(\"done\")"
      ],
      "execution_count": 123,
      "outputs": [
        {
          "output_type": "stream",
          "text": [
            "dog\n",
            "done\n"
          ],
          "name": "stdout"
        }
      ]
    },
    {
      "cell_type": "code",
      "metadata": {
        "colab": {
          "base_uri": "https://localhost:8080/"
        },
        "id": "u8Gs1b4aDfsF",
        "outputId": "6a437ff6-eda1-4802-edc5-0314236eed36"
      },
      "source": [
        "var = 4\n",
        "var = 3\n",
        "\n",
        "if var == 4 and 3 == 3:\n",
        "  print(\"this\")\n",
        "else:\n",
        "  print(\"not that\")\n",
        "\n",
        "# elif == else if\n",
        "\n",
        "# and... if both are true\n",
        "# or... if at least one is true"
      ],
      "execution_count": 134,
      "outputs": [
        {
          "output_type": "stream",
          "text": [
            "not that\n"
          ],
          "name": "stdout"
        }
      ]
    },
    {
      "cell_type": "code",
      "metadata": {
        "id": "QhLdCT7BFgrj"
      },
      "source": [
        ""
      ],
      "execution_count": null,
      "outputs": []
    }
  ]
}